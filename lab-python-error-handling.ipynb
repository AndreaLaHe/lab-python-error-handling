{
 "cells": [
  {
   "cell_type": "markdown",
   "id": "25d7736c-ba17-4aff-b6bb-66eba20fbf4e",
   "metadata": {},
   "source": [
    "# Lab | Error Handling"
   ]
  },
  {
   "cell_type": "markdown",
   "id": "bc99b386-7508-47a0-bcdb-d969deaf6c8b",
   "metadata": {},
   "source": [
    "## Exercise: Error Handling for Managing Customer Orders\n",
    "\n",
    "The implementation of your code for managing customer orders assumes that the user will always enter a valid input. \n",
    "\n",
    "For example, we could modify the `initialize_inventory` function to include error handling.\n",
    "   - If the user enters an invalid quantity (e.g., a negative value or a non-numeric value), display an error message and ask them to re-enter the quantity for that product.\n",
    "   - Use a try-except block to handle the error and continue prompting the user until a valid quantity is entered.\n",
    "\n",
    "```python\n",
    "# Step 1: Define the function for initializing the inventory with error handling\n",
    "def initialize_inventory(products):\n",
    "    inventory = {}\n",
    "    for product in products:\n",
    "        valid_quantity = False\n",
    "        while not valid_quantity:\n",
    "            try:\n",
    "                quantity = int(input(f\"Enter the quantity of {product}s available: \"))\n",
    "                if quantity < 0:\n",
    "                    raise ValueError(\"Invalid quantity! Please enter a non-negative value.\")\n",
    "                valid_quantity = True\n",
    "            except ValueError as error:\n",
    "                print(f\"Error: {error}\")\n",
    "        inventory[product] = quantity\n",
    "    return inventory\n",
    "\n",
    "# Or, in another way:\n",
    "\n",
    "def initialize_inventory(products):\n",
    "    inventory = {}\n",
    "    for product in products:\n",
    "        valid_input = False\n",
    "        while not valid_input:\n",
    "            try:\n",
    "                quantity = int(input(f\"Enter the quantity of {product}s available: \"))\n",
    "                if quantity >= 0:\n",
    "                    inventory[product] = quantity\n",
    "                    valid_input = True\n",
    "                else:\n",
    "                    print(\"Quantity cannot be negative. Please enter a valid quantity.\")\n",
    "            except ValueError:\n",
    "                print(\"Invalid input. Please enter a valid quantity.\")\n",
    "    return inventory\n",
    "```\n",
    "\n",
    "Let's enhance your code by implementing error handling to handle invalid inputs.\n",
    "\n",
    "Follow the steps below to complete the exercise:\n",
    "\n",
    "2. Modify the `calculate_total_price` function to include error handling.\n",
    "   - If the user enters an invalid price (e.g., a negative value or a non-numeric value), display an error message and ask them to re-enter the price for that product.\n",
    "   - Use a try-except block to handle the error and continue prompting the user until a valid price is entered.\n",
    "\n",
    "3. Modify the `get_customer_orders` function to include error handling.\n",
    "   - If the user enters an invalid number of orders (e.g., a negative value or a non-numeric value), display an error message and ask them to re-enter the number of orders.\n",
    "   - If the user enters an invalid product name (e.g., a product name that is not in the inventory), or that doesn't have stock available, display an error message and ask them to re-enter the product name. *Hint: you will need to pass inventory as a parameter*\n",
    "   - Use a try-except block to handle the error and continue prompting the user until a valid product name is entered.\n",
    "\n",
    "4. Test your code by running the program and deliberately entering invalid quantities and product names. Make sure the error handling mechanism works as expected.\n"
   ]
  },
  {
   "cell_type": "markdown",
   "id": "a3bddf7e",
   "metadata": {},
   "source": [
    "<h1>Ejercicio 2<h1>"
   ]
  },
  {
   "cell_type": "code",
   "execution_count": 1,
   "id": "c52f1625",
   "metadata": {},
   "outputs": [],
   "source": [
    "def total_price_custumer_orders(customer_orders):\n",
    "    total_price = 0\n",
    "    for product in customer_orders:\n",
    "        while True:\n",
    "            try:\n",
    "                price = float(input(f\"Introduce el precio de {product}: \"))\n",
    "                if price < 0:\n",
    "                    print(\"El precio no puede ser negativo. Por favor, ingresa un precio válido.\")\n",
    "                else:\n",
    "                    break  \n",
    "            except ValueError:\n",
    "                print(\"Entrada inválida. Por favor, ingresa un número válido para el precio.\")\n",
    "        total_price += price * customer_orders[product] \n",
    "    return total_price"
   ]
  },
  {
   "cell_type": "markdown",
   "id": "3e459783",
   "metadata": {},
   "source": [
    "<h1>Ejercicio 3<h1>"
   ]
  },
  {
   "cell_type": "code",
   "execution_count": 2,
   "id": "bf73557b",
   "metadata": {},
   "outputs": [],
   "source": [
    "def get_customer_orders(inventory):\n",
    "    while True:\n",
    "        try:\n",
    "            num_orders = int(input(\"Introduce el número de pedidos del cliente: \"))\n",
    "            if num_orders <= 0:\n",
    "                print(\"El número de pedidos debe ser un entero positivo. Por favor, intenta de nuevo.\")\n",
    "                continue\n",
    "            break\n",
    "        except ValueError:\n",
    "            print(\"Entrada inválida. Por favor, ingresa un número entero válido.\")\n",
    "\n",
    "    customer_orders = {}\n",
    "    for i in range(num_orders):\n",
    "        while True:\n",
    "            product_name = input(f\"Introduce el nombre del producto {i+1}: \").strip()\n",
    "            if product_name in inventory and inventory[product_name] > 0:\n",
    "                break  \n",
    "            else:\n",
    "                print(f\"El producto '{product_name}' no está en el inventario o no hay stock disponible. Por favor, ingresa un producto válido.\")\n",
    "\n",
    "        while True:\n",
    "            try:\n",
    "                quantity = int(input(f\"Introduce la cantidad de '{product_name}' que deseas pedir: \"))\n",
    "                if quantity <= 0:\n",
    "                    print(\"La cantidad debe ser un entero positivo. Por favor, intenta de nuevo.\")\n",
    "                    continue\n",
    "                if quantity > inventory[product_name]:\n",
    "                    print(f\"Solo hay {inventory[product_name]} unidades de '{product_name}' disponibles. Por favor, ingresa una cantidad válida.\")\n",
    "                    continue\n",
    "                break\n",
    "            except ValueError:\n",
    "                print(\"Entrada inválida. Por favor, ingresa un número entero válido.\")\n",
    "\n",
    "        if product_name in customer_orders:\n",
    "            customer_orders[product_name] += quantity\n",
    "        else:\n",
    "            customer_orders[product_name] = quantity\n",
    "\n",
    "    return customer_orders"
   ]
  },
  {
   "cell_type": "markdown",
   "id": "a866acf9",
   "metadata": {},
   "source": [
    "<h1>Ejercicio 4<h1>"
   ]
  },
  {
   "cell_type": "code",
   "execution_count": 3,
   "id": "fbfb1a85",
   "metadata": {},
   "outputs": [
    {
     "name": "stdout",
     "output_type": "stream",
     "text": [
      "Entrada inválida. Por favor, ingresa un número entero válido.\n",
      "\n",
      "El precio total del pedido del cliente es: 42.97 euros\n",
      "\n",
      "Pedidos del cliente:\n",
      "bag: 1\n",
      "hat: 3\n"
     ]
    }
   ],
   "source": [
    "inventory = {\n",
    "    \"hat\": 5,\n",
    "    \"chandal\": 10,\n",
    "    \"flip-flops\": 7,\n",
    "    \"bag\": 3\n",
    "}\n",
    "\n",
    "customer_orders = get_customer_orders(inventory)\n",
    "\n",
    "total = total_price_custumer_orders(customer_orders)\n",
    "print(f\"\\nEl precio total del pedido del cliente es: {total} euros\")\n",
    "\n",
    "print(\"\\nPedidos del cliente:\")\n",
    "for product, quantity in customer_orders.items():\n",
    "    print(f\"{product}: {quantity}\")"
   ]
  }
 ],
 "metadata": {
  "kernelspec": {
   "display_name": "Python 3 (ipykernel)",
   "language": "python",
   "name": "python3"
  },
  "language_info": {
   "codemirror_mode": {
    "name": "ipython",
    "version": 3
   },
   "file_extension": ".py",
   "mimetype": "text/x-python",
   "name": "python",
   "nbconvert_exporter": "python",
   "pygments_lexer": "ipython3",
   "version": "3.7.9"
  }
 },
 "nbformat": 4,
 "nbformat_minor": 5
}
